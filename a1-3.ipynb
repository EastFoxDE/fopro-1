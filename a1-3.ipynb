{
 "cells": [
  {
   "cell_type": "code",
   "execution_count": 2,
   "id": "54787e5f-5986-4176-bd2f-69a1540c19ea",
   "metadata": {},
   "outputs": [
    {
     "name": "stdout",
     "output_type": "stream",
     "text": [
      "tensor([[0.7851, 0.8572, 0.9801],\n",
      "        [0.1837, 0.3329, 0.2836],\n",
      "        [0.1941, 0.2002, 0.1485],\n",
      "        [0.6676, 0.5900, 0.8262],\n",
      "        [0.8743, 0.7570, 0.3201]])\n"
     ]
    }
   ],
   "source": [
    "import torch\n",
    "x = torch.rand(5, 3)\n",
    "print(x)"
   ]
  },
  {
   "cell_type": "code",
   "execution_count": 43,
   "id": "d108c3be-d37d-456d-b6de-2d284c19d63b",
   "metadata": {},
   "outputs": [
    {
     "name": "stdout",
     "output_type": "stream",
     "text": [
      "Found a minimum at Point p(-1.151, 0.000) on iteration 114\n",
      "Found a minimum at Point p(0.000, 1.000) on iteration 1\n",
      "Found a minimum at Point p(-0.000, 1.000) on iteration 839\n"
     ]
    }
   ],
   "source": [
    "from diffType import *\n",
    "\n",
    "#start\n",
    "def gradient(x):\n",
    "    g = 0.01             #stepsize\n",
    "    p = diffType(x, 1.0) #our var to diff\n",
    "    eps = 1e-7           #to stop diff\n",
    "    count = 0            #for reference\n",
    "    \n",
    "    while(1):\n",
    "        count += 1\n",
    "        y = ((p**3)+(1 + p**2).sqrt())**2\n",
    "        if(abs(y.dvalue) < eps):\n",
    "            break\n",
    "        p = p - g * y.dvalue\n",
    "\n",
    "    print(f\"Found a minimum at Point p({p.value:.3f}, {y.value:.3f}) on iteration {count}\")\n",
    "    \n",
    "gradient(-0.5)\n",
    "gradient(0)\n",
    "gradient(-0.25)"
   ]
  },
  {
   "cell_type": "code",
   "execution_count": 1,
   "id": "8101b7a5-787e-4df2-8883-0fc8f407579f",
   "metadata": {},
   "outputs": [
    {
     "name": "stdout",
     "output_type": "stream",
     "text": [
      "Found a minimum at Point p(-1.151, 0.000) on iteration 94\n",
      "Found a minimum at Point p(0.000, 1.000) on iteration 1\n",
      "Found a minimum at Point p(-0.000, 1.000) on iteration 611\n"
     ]
    }
   ],
   "source": [
    "import torch\n",
    "\n",
    "def gradient_torch(x_val):\n",
    "    x = torch.tensor([x_val], requires_grad=True)\n",
    "    g = 0.01\n",
    "    eps = 1e-5                                           # 1e-7 wird mit PyTorch nie erreicht...\n",
    "    count = 1\n",
    "    \n",
    "    while(1):\n",
    "        y = ((x**3)+(1 + x**2).sqrt())**2\n",
    "        y.backward()                                     # Backward-Mode autodiff\n",
    "        \n",
    "        if abs(x.grad.item()) < eps or count > 100000:\n",
    "            break\n",
    "\n",
    "        # Variante 1:\n",
    "        #with torch.no_grad():                            # In PyTorch best Praxis -> torch.no_grad() für Parameter-Updates zu verwenden!\n",
    "                                                          # Ansonsten enthät computational graph auch diese Op und verfälscht Ergebnis\n",
    "        #    x -= g * x.grad\n",
    "        #x.grad.zero_()                                   # Gradient addiert sich sonst auf\n",
    "\n",
    "        # Variante 2:\n",
    "        x_val = x.item() - g * x.grad.item()    \n",
    "        x.grad.zero_()                                   # Gradient addiert sich sonst auf\n",
    "        x = torch.tensor([x_val], requires_grad=True)\n",
    "        count += 1\n",
    "    \n",
    "    print(f\"Found a minimum at Point p({x.item():.3f}, {y.item():.3f}) on iteration {count}\")\n",
    "\n",
    "gradient_torch(-0.5)\n",
    "gradient_torch(0.0)\n",
    "gradient_torch(-0.25)"
   ]
  },
  {
   "cell_type": "code",
   "execution_count": null,
   "id": "0a0c9d53-19fa-451c-a617-3e0c86fcc5b0",
   "metadata": {},
   "outputs": [],
   "source": []
  }
 ],
 "metadata": {
  "kernelspec": {
   "display_name": "Python 3 (ipykernel)",
   "language": "python",
   "name": "python3"
  },
  "language_info": {
   "codemirror_mode": {
    "name": "ipython",
    "version": 3
   },
   "file_extension": ".py",
   "mimetype": "text/x-python",
   "name": "python",
   "nbconvert_exporter": "python",
   "pygments_lexer": "ipython3",
   "version": "3.13.2"
  }
 },
 "nbformat": 4,
 "nbformat_minor": 5
}
