{
 "cells": [
  {
   "cell_type": "code",
   "execution_count": 20,
   "id": "5fc8543f-3c6a-4108-ac3d-b9710c16f84a",
   "metadata": {},
   "outputs": [
    {
     "name": "stdout",
     "output_type": "stream",
     "text": [
      "2.3333333333333335\n"
     ]
    }
   ],
   "source": [
    "from functools import reduce\n",
    "\n",
    "results = [{'name':'Lara','mark':1,'group':1},\n",
    "{'name':'Richard','mark':2,'group':2},\n",
    "{'name':'Hugo','mark':3,'group':1},\n",
    "{'name':'Michael','mark':1,'group':2},\n",
    "{'name':'Sandra','mark':1,'group':2},\n",
    "{'name':'Sarah','mark':3,'group':1}]\n",
    "\n",
    "results = filter(lambda x: x[\"group\"]==1, results)\n",
    "results = list(map(lambda x: x[\"mark\"], results))\n",
    "length = len(results)\n",
    "average_group1  = reduce(lambda x,y: x+y, results) / length\n",
    "print(average_group1)"
   ]
  },
  {
   "cell_type": "code",
   "execution_count": null,
   "id": "4b9bb1a5-0de0-4948-a23c-97b777d04fea",
   "metadata": {},
   "outputs": [],
   "source": []
  }
 ],
 "metadata": {
  "kernelspec": {
   "display_name": "Python 3 (ipykernel)",
   "language": "python",
   "name": "python3"
  },
  "language_info": {
   "codemirror_mode": {
    "name": "ipython",
    "version": 3
   },
   "file_extension": ".py",
   "mimetype": "text/x-python",
   "name": "python",
   "nbconvert_exporter": "python",
   "pygments_lexer": "ipython3",
   "version": "3.13.2"
  }
 },
 "nbformat": 4,
 "nbformat_minor": 5
}
